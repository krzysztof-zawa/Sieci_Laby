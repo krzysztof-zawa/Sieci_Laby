{
 "cells": [
  {
   "cell_type": "code",
   "execution_count": 1,
   "id": "74f83cec",
   "metadata": {},
   "outputs": [
    {
     "name": "stdout",
     "output_type": "stream",
     "text": [
      "Hello World!\n"
     ]
    }
   ],
   "source": [
    "print(\"Hello World!\")"
   ]
  },
  {
   "cell_type": "code",
   "execution_count": 33,
   "id": "68606bda",
   "metadata": {},
   "outputs": [],
   "source": [
    "#zadanie 1\n",
    "\n",
    "def temp(x):\n",
    "    try:\n",
    "        if is_number(x):\n",
    "            F = 1.8*x + 32\n",
    "            return F\n",
    "    except ValueError:        \n",
    "        return False\n",
    "        \n",
    "    "
   ]
  },
  {
   "cell_type": "code",
   "execution_count": 34,
   "id": "9d55f896",
   "metadata": {},
   "outputs": [],
   "source": [
    "def is_number(x):\n",
    "    return type(x) in (int, float, complex)"
   ]
  },
  {
   "cell_type": "code",
   "execution_count": 35,
   "id": "51541954",
   "metadata": {},
   "outputs": [
    {
     "name": "stdout",
     "output_type": "stream",
     "text": [
      "53.6\n"
     ]
    }
   ],
   "source": [
    "temp_f = temp(12)\n",
    "print(temp_f)"
   ]
  },
  {
   "cell_type": "code",
   "execution_count": 36,
   "id": "e4a44f31",
   "metadata": {},
   "outputs": [],
   "source": [
    "#zadanie 2\n",
    "def usun_duplikaty(sekwencja):\n",
    "    # Tworzymy słownik do przechowywania liczby wystąpień każdej liczby\n",
    "    licznik = {}\n",
    "    \n",
    "    # Zliczamy wystąpienia każdej liczby w sekwencji\n",
    "    for liczba in sekwencja:\n",
    "        if liczba in licznik:\n",
    "            licznik[liczba] += 1\n",
    "        else:\n",
    "            licznik[liczba] = 1\n",
    "    \n",
    "    # Sortujemy klucze (unikalne liczby) w porządku rosnącym\n",
    "    posortowane_liczby = sorted(licznik.keys())\n",
    "    \n",
    "    # Wypisujemy wyniki\n",
    "    for liczba in posortowane_liczby:\n",
    "        print(f\"Liczba {liczba} występuje {licznik[liczba]} razy\")\n"
   ]
  },
  {
   "cell_type": "code",
   "execution_count": 37,
   "id": "bb795127",
   "metadata": {},
   "outputs": [
    {
     "name": "stdout",
     "output_type": "stream",
     "text": [
      "Liczba 1 występuje 1 razy\n",
      "Liczba 2 występuje 2 razy\n",
      "Liczba 4 występuje 3 razy\n",
      "Liczba 8 występuje 2 razy\n",
      "Liczba 9 występuje 1 razy\n"
     ]
    }
   ],
   "source": [
    "sekwencja = [4, 2, 2, 8, 4, 9, 4, 1, 8]\n",
    "usun_duplikaty(sekwencja)"
   ]
  },
  {
   "cell_type": "code",
   "execution_count": 48,
   "id": "46f09498",
   "metadata": {},
   "outputs": [],
   "source": [
    "#zadanie 3\n",
    "def znajdz_pierwszy(sekwencja, pierwszy):\n",
    "    return lambda a: True if sekwencja[0] == pierwszy else False"
   ]
  },
  {
   "cell_type": "code",
   "execution_count": 49,
   "id": "67b8ef93",
   "metadata": {},
   "outputs": [
    {
     "name": "stdout",
     "output_type": "stream",
     "text": [
      "<function znajdz_pierwszy.<locals>.<lambda> at 0x0000026ED6179A20>\n"
     ]
    }
   ],
   "source": [
    "x= znajdz_pierwszy(sekwencja, 2)\n",
    "print(x)"
   ]
  },
  {
   "cell_type": "code",
   "execution_count": 52,
   "id": "3967ebb9",
   "metadata": {},
   "outputs": [],
   "source": [
    "# zadanie 4\n",
    "def liczby_pierwsze(x):\n",
    "    # Lista do przechowywania liczb pierwszych\n",
    "    pierwsze = []\n",
    "    \n",
    "    # Iterujemy po liczbach od 2 do x\n",
    "    for liczba in range(2, x+1):\n",
    "        # Zakładamy, że liczba jest pierwsza\n",
    "        is_prime = True\n",
    "        \n",
    "        # Sprawdzamy dzielniki liczby od 2 do pierwiastka kwadratowego z liczby\n",
    "        for dzielnik in range(2, int(liczba ** 0.5) + 1):\n",
    "            if liczba % dzielnik == 0:\n",
    "                # Jeśli liczba ma dzielnik, nie jest liczbą pierwszą\n",
    "                is_prime = False\n",
    "                break\n",
    "        \n",
    "        # Jeśli liczba jest pierwsza, dodajemy ją do listy i wypisujemy\n",
    "        if is_prime:\n",
    "            pierwsze.append(liczba)\n",
    "            print(liczba)\n",
    "    \n",
    "    # Zwracamy listę liczb pierwszych\n",
    "    return pierwsze"
   ]
  },
  {
   "cell_type": "code",
   "execution_count": 53,
   "id": "29ec15b0",
   "metadata": {},
   "outputs": [
    {
     "name": "stdout",
     "output_type": "stream",
     "text": [
      "2\n",
      "3\n",
      "5\n",
      "7\n",
      "11\n",
      "13\n",
      "17\n",
      "19\n",
      "Liczby pierwsze: [2, 3, 5, 7, 11, 13, 17, 19]\n"
     ]
    }
   ],
   "source": [
    "x = 20\n",
    "lista_pierwszych = liczby_pierwsze(x)\n",
    "print(\"Liczby pierwsze:\", lista_pierwszych)"
   ]
  },
  {
   "cell_type": "code",
   "execution_count": null,
   "id": "65c0621f",
   "metadata": {},
   "outputs": [],
   "source": [
    "class Calculator:\n",
    "    def __init__:\n",
    "        "
   ]
  }
 ],
 "metadata": {
  "kernelspec": {
   "display_name": "Python 3 (ipykernel)",
   "language": "python",
   "name": "python3"
  },
  "language_info": {
   "codemirror_mode": {
    "name": "ipython",
    "version": 3
   },
   "file_extension": ".py",
   "mimetype": "text/x-python",
   "name": "python",
   "nbconvert_exporter": "python",
   "pygments_lexer": "ipython3",
   "version": "3.10.9"
  }
 },
 "nbformat": 4,
 "nbformat_minor": 5
}
