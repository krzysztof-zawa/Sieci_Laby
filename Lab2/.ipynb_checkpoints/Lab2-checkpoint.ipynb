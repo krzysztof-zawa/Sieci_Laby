{
 "cells": [
  {
   "cell_type": "code",
   "execution_count": 98,
   "id": "436dc6f1",
   "metadata": {},
   "outputs": [],
   "source": [
    "def activation_potential(inputs, weights):\n",
    "    potential = np.dot(inputs, weights)     \n",
    "    return potential"
   ]
  },
  {
   "cell_type": "code",
   "execution_count": 99,
   "id": "60b42a90",
   "metadata": {},
   "outputs": [
    {
     "name": "stdout",
     "output_type": "stream",
     "text": [
      "[0.23081680206488067, 0.6829968674757372, -0.4610133724822717, 0.14714214937246226]\n",
      "Potencjal neuronu: 0.8023390170593889\n"
     ]
    }
   ],
   "source": [
    "import numpy as np\n",
    "import matplotlib.pyplot as plt\n",
    "\n",
    "inputs =  [1 , 2, 3, 4]\n",
    "weights = [np.random.randn() for i in range(len(inputs))]\n",
    "print(weights)\n",
    "\n",
    "neuron_potential =  activation_potential(inputs, weights)\n",
    "print(\"Potencjal neuronu:\", neuron_potential)"
   ]
  },
  {
   "cell_type": "code",
   "execution_count": 100,
   "id": "b22c44dd",
   "metadata": {},
   "outputs": [],
   "source": [
    "# zdanie 2\n",
    "\n",
    "# Funkcja liniowa\n",
    "def linear(potential):\n",
    "    return potential\n",
    "\n",
    "# Funkcja sigmoid\n",
    "def sigmoid(potential):\n",
    "    return 1 / (1 + np.exp(-potential))\n",
    "\n",
    "# Funkcja tanh\n",
    "def tanh(potential):\n",
    "    return np.tanh(potential)\n",
    "\n",
    "# Funkcja ReLU\n",
    "def relu(potential):\n",
    "    return np.maximum(0, potential)"
   ]
  },
  {
   "cell_type": "code",
   "execution_count": 101,
   "id": "9f119900",
   "metadata": {},
   "outputs": [],
   "source": [
    "# wejscie - potencjał neuronu\n",
    "# wyjscie - wyjście neuronu dla zadanej funkcji aktywacji\n",
    "def neuron_output(neuron_potential, function):\n",
    "    match function:\n",
    "        case 'linear':\n",
    "            return linear(neuron_potential)\n",
    "        case 'sigmoid':\n",
    "            return sigmoid(neuron_potential)\n",
    "        case 'tanh':\n",
    "            return tanh(neuron_potential)\n",
    "        case 'relu':\n",
    "            return relu(neuron_potential)\n",
    "        case _:\n",
    "            raise ValueError(\"Nieznana funkcja aktywacji\") "
   ]
  },
  {
   "cell_type": "code",
   "execution_count": 102,
   "id": "d161b3f0",
   "metadata": {},
   "outputs": [
    {
     "name": "stdout",
     "output_type": "stream",
     "text": [
      "[-1.149125151444041, -0.23907348733084788, 1.1864860299484832, 0.6303491358096376]\n",
      "Potencjal neuronu: 4.453582506978263\n",
      "Linear: 4.453582506978263\n",
      "Sigmoid: 0.9884970542401532\n",
      "Tanh: 0.9997292062885781\n",
      "ReLU: 4.453582506978263\n"
     ]
    }
   ],
   "source": [
    "inputs =  [1 , 2, 3, 4]\n",
    "weights = [np.random.randn() for i in range(len(inputs))]\n",
    "print(weights)\n",
    "neuron_potential =  activation_potential(inputs, weights)\n",
    "\n",
    "print(\"Potencjal neuronu:\", neuron_potential)\n",
    "\n",
    "print(\"Linear:\", neuron_output(neuron_potential, \"linear\"))\n",
    "print(\"Sigmoid:\", neuron_output(neuron_potential, \"sigmoid\"))\n",
    "print(\"Tanh:\", neuron_output(neuron_potential, \"tanh\"))\n",
    "print(\"ReLU:\", neuron_output(neuron_potential, \"relu\"))"
   ]
  },
  {
   "cell_type": "code",
   "execution_count": 128,
   "id": "de9ab037",
   "metadata": {},
   "outputs": [],
   "source": [
    "#zadanie 3\n",
    "def plot_activation(ak):\n",
    "    linear_neuron = []\n",
    "    sigmoid_neuron = []\n",
    "    print(len(linear_neuron))\n",
    "    tanh_neuron = []\n",
    "    relu_neuron = []\n",
    "    for j in range(4):    \n",
    "        for i in range(len(ak)):\n",
    "            \n",
    "            match j:\n",
    "                case 0:\n",
    "                    linear_neuron.append(neuron_output(ak[i], \"linear\"))\n",
    "                case 1:\n",
    "                    sigmoid_neuron.append(neuron_output(ak[i], \"sigmoid\"))\n",
    "                case 2:\n",
    "                    tanh_neuron.append(neuron_output(ak[i], \"tanh\"))\n",
    "                case 3:\n",
    "                    relu_neuron.append(neuron_output(ak[i], \"relu\"))\n",
    "\n",
    "    print(len(linear_neuron))\n",
    "    plt.scatter(ak, linear_neuron, s=10)\n",
    "    plt.scatter(ak, sigmoid_neuron, s=10)\n",
    "    plt.scatter(ak, tanh_neuron, s=10)\n",
    "    plt.scatter(ak, relu_neuron, s=10)"
   ]
  },
  {
   "cell_type": "code",
   "execution_count": 132,
   "id": "6be7aab5",
   "metadata": {},
   "outputs": [
    {
     "name": "stdout",
     "output_type": "stream",
     "text": [
      "Potencjał neuronu: 0.4734708263282015\n",
      "Wyjście dla funkcji aktywacji 'linear': 0.4734708263282015\n",
      "Wyjście dla funkcji aktywacji 'sigmoid': 0.6162049247516022\n",
      "Wyjście dla funkcji aktywacji 'tanh': 0.4409994078676162\n",
      "Wyjście dla funkcji aktywacji 'relu': 0.4734708263282015\n"
     ]
    }
   ],
   "source": [
    "#zadanie 4\n",
    "import numpy as np\n",
    "\n",
    "class ActivationFcn:\n",
    "    def __init__(self):\n",
    "        # Inicjalizacja nazw funkcji aktywacji\n",
    "        self.functions = ['linear', 'sigmoid', 'tanh', 'relu']\n",
    "    \n",
    "    def linear(self, x):\n",
    "        \"\"\"Funkcja tożsamości (liniowa)\"\"\"\n",
    "        return x\n",
    "\n",
    "    def sigmoid(self, x):\n",
    "        \"\"\"Funkcja logistyczna\"\"\"\n",
    "        return 1 / (1 + np.exp(-x))\n",
    "\n",
    "    def tanh(self, x):\n",
    "        \"\"\"Funkcja tangensu hiperbolicznego\"\"\"\n",
    "        return np.tanh(x)\n",
    "\n",
    "    def relu(self, x):\n",
    "        \"\"\"Funkcja ReLU\"\"\"\n",
    "        return np.maximum(0, x)\n",
    "\n",
    "    def output(self, x, activation_type):\n",
    "        \"\"\"Wyznaczanie wyjścia dla zadanej funkcji aktywacji\"\"\"\n",
    "        if activation_type not in self.functions:\n",
    "            raise ValueError(f\"Nieznana funkcja aktywacji: {activation_type}\")\n",
    "\n",
    "        # Wywołanie odpowiedniej funkcji aktywacji\n",
    "        return getattr(self, activation_type)(x)\n",
    "\n",
    "# Funkcja do obliczenia potencjału neuronu\n",
    "def activation_potential(inputs, weights):\n",
    "    return np.dot(inputs, weights)\n",
    "\n",
    "# Przykład użycia\n",
    "if __name__ == \"__main__\":\n",
    "    # Definiowanie wejść i wag\n",
    "    inputs = np.array([0.5, 0.2, 0.1])  # Przykładowe wartości wejściowe\n",
    "    weights = np.random.randn(inputs.shape[0])  # Losowe wagi dla neuronu\n",
    "\n",
    "    # Obliczenie potencjału neuronu\n",
    "    potential = activation_potential(inputs, weights)\n",
    "    print(f\"Potencjał neuronu: {potential}\")\n",
    "\n",
    "    # Tworzenie obiektu klasy ActivationFcn\n",
    "    activation = ActivationFcn()\n",
    "\n",
    "    # Wyznaczanie wyjść dla różnych funkcji aktywacji\n",
    "    for func in activation.functions:\n",
    "        output_value = activation.output(potential, func)\n",
    "        print(f\"Wyjście dla funkcji aktywacji '{func}': {output_value}\")"
   ]
  },
  {
   "cell_type": "code",
   "execution_count": 131,
   "id": "10189258",
   "metadata": {},
   "outputs": [
    {
     "name": "stdout",
     "output_type": "stream",
     "text": [
      "Błąd średnio kwadratowy (MSE): 0.048\n",
      "Binarna entropia krzyżowa (BCE): 0.22944289410146546\n"
     ]
    }
   ],
   "source": [
    "#zadanie 5\n",
    "import numpy as np\n",
    "\n",
    "def mse(expected, output):\n",
    "    \"\"\"\n",
    "    Funkcja obliczająca błąd średnio kwadratowy (MSE).\n",
    "    \n",
    "    Parametry:\n",
    "    expected -- oczekiwane wartości\n",
    "    output -- wartości wyjściowe wyznaczone przez model\n",
    "    \n",
    "    Zwraca:\n",
    "    mse_value -- wartość błędu średnio kwadratowego\n",
    "    \"\"\"\n",
    "    expected = np.array(expected)  # Konwersja na tablicę NumPy\n",
    "    output = np.array(output)  # Konwersja na tablicę NumPy\n",
    "    mse_value = np.mean((expected - output) ** 2)  # Obliczenie MSE\n",
    "    return mse_value\n",
    "\n",
    "def binary_cross_entropy(expected, output):\n",
    "    \"\"\"\n",
    "    Funkcja obliczająca binarną entropię krzyżową.\n",
    "    \n",
    "    Parametry:\n",
    "    expected -- oczekiwane wartości (0 lub 1)\n",
    "    output -- wartości wyjściowe wyznaczone przez model (w zakresie 0-1)\n",
    "    \n",
    "    Zwraca:\n",
    "    bce_value -- wartość entropii krzyżowej\n",
    "    \"\"\"\n",
    "    expected = np.array(expected)  # Konwersja na tablicę NumPy\n",
    "    output = np.array(output)  # Konwersja na tablicę NumPy\n",
    "\n",
    "    # Zapobieganie log(0) poprzez dodanie małej wartości epsilon\n",
    "    epsilon = 1e-15\n",
    "    output = np.clip(output, epsilon, 1 - epsilon)  # Ograniczenie wartości do (epsilon, 1-epsilon)\n",
    "\n",
    "    bce_value = -np.mean(expected * np.log(output) + (1 - expected) * np.log(1 - output))  # Obliczenie BCE\n",
    "    return bce_value\n",
    "\n",
    "# Przykład użycia\n",
    "if __name__ == \"__main__\":\n",
    "    expected = [0, 1, 1, 0, 1]  # Oczekiwane wartości\n",
    "    output = [0.1, 0.9, 0.8, 0.3, 0.7]  # Przewidywane wartości przez model\n",
    "\n",
    "    mse_value = mse(expected, output)\n",
    "    bce_value = binary_cross_entropy(expected, output)\n",
    "\n",
    "    print(f\"Błąd średnio kwadratowy (MSE): {mse_value}\")\n",
    "    print(f\"Binarna entropia krzyżowa (BCE): {bce_value}\")"
   ]
  },
  {
   "cell_type": "code",
   "execution_count": 133,
   "id": "16d19f3c",
   "metadata": {},
   "outputs": [
    {
     "data": {
      "image/png": "[encoded data removed]",
      "text/plain": [
       "<Figure size 1000x600 with 1 Axes>"
      ]
     },
     "metadata": {},
     "output_type": "display_data"
    }
   ],
   "source": [
    "import numpy as np\n",
    "import matplotlib.pyplot as plt\n",
    "\n",
    "def mse(expected, output):\n",
    "    \"\"\"Funkcja obliczająca błąd średnio kwadratowy (MSE).\"\"\"\n",
    "    return np.mean((expected - output) ** 2)\n",
    "\n",
    "def visualize_loss(expected_value, predicted_value):\n",
    "    \"\"\"\n",
    "    Funkcja do wizualizacji zmian przebiegu funkcji strat.\n",
    "    \n",
    "    Parametry:\n",
    "    expected_value -- oczekiwana wartość\n",
    "    predicted_value -- wyznaczona wartość przez model\n",
    "    \"\"\"\n",
    "    # Tworzenie zakresu różnic\n",
    "    differences = np.linspace(-1, 1, 100)  # Różnice od -1 do 1\n",
    "    losses = []\n",
    "\n",
    "    # Obliczanie wartości funkcji strat dla różnych różnic\n",
    "    for diff in differences:\n",
    "        # Obliczamy nową wyznaczoną wartość na podstawie różnicy\n",
    "        current_output = expected_value + diff\n",
    "        loss_value = mse(expected_value, current_output)  # Obliczamy MSE\n",
    "        losses.append(loss_value)\n",
    "\n",
    "    # Tworzenie wykresu\n",
    "    plt.figure(figsize=(10, 6))\n",
    "    plt.plot(differences, losses, label='MSE', color='blue')\n",
    "    plt.title('Wizualizacja funkcji strat (MSE)')\n",
    "    plt.xlabel('Różnica (oczekiwana - wyznaczona)')\n",
    "    plt.ylabel('Wartość funkcji strat')\n",
    "    plt.axhline(0, color='black', lw=0.5, ls='--')  # Linia pozioma dla wartości 0\n",
    "    plt.axvline(0, color='black', lw=0.5, ls='--')  # Linia pionowa dla wartości 0\n",
    "    plt.grid()\n",
    "    plt.legend()\n",
    "    plt.show()\n",
    "\n",
    "# Przykład użycia\n",
    "if __name__ == \"__main__\":\n",
    "    expected_value = 0.5  # Przykładowa wartość oczekiwana\n",
    "    predicted_value = 0.3  # Przykładowa wartość wyznaczona przez model\n",
    "\n",
    "    visualize_loss(expected_value, predicted_value)\n"
   ]
  },
  {
   "cell_type": "code",
   "execution_count": null,
   "id": "26133fc0",
   "metadata": {},
   "outputs": [],
   "source": []
  }
 ],
 "metadata": {
  "kernelspec": {
   "display_name": "Python 3 (ipykernel)",
   "language": "python",
   "name": "python3"
  },
  "language_info": {
   "codemirror_mode": {
    "name": "ipython",
    "version": 3
   },
   "file_extension": ".py",
   "mimetype": "text/x-python",
   "name": "python",
   "nbconvert_exporter": "python",
   "pygments_lexer": "ipython3",
   "version": "3.10.9"
  }
 },
 "nbformat": 4,
 "nbformat_minor": 5
}
